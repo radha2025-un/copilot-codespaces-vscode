{
  "nbformat": 4,
  "nbformat_minor": 0,
  "metadata": {
    "colab": {
      "provenance": [],
      "authorship_tag": "ABX9TyNhqXO3MOgg4durliloL4U8",
      "include_colab_link": true
    },
    "kernelspec": {
      "name": "python3",
      "display_name": "Python 3"
    },
    "language_info": {
      "name": "python"
    }
  },
  "cells": [
    {
      "cell_type": "markdown",
      "metadata": {
        "id": "view-in-github",
        "colab_type": "text"
      },
      "source": [
        "<a href=\"https://colab.research.google.com/github/radha2025-un/copilot-codespaces-vscode/blob/main/Untitled1.ipynb\" target=\"_parent\"><img src=\"https://colab.research.google.com/assets/colab-badge.svg\" alt=\"Open In Colab\"/></a>"
      ]
    },
    {
      "cell_type": "code",
      "execution_count": 11,
      "metadata": {
        "colab": {
          "base_uri": "https://localhost:8080/",
          "height": 0
        },
        "id": "xd7bQcuYcVOF",
        "outputId": "b239d613-3902-40f2-ccf9-bd7da2bdb2a6"
      },
      "outputs": [
        {
          "output_type": "stream",
          "name": "stdout",
          "text": [
            "hello world\n"
          ]
        }
      ],
      "source": [
        "answer no. 1 print(\"hello world\")"
      ]
    },
    {
      "cell_type": "code",
      "source": [
        "answer no. 2 age = input(\"Enter your age: \")\n",
        "name = input(\"Enter your name: \")\n",
        "print(\"Hi, my name is \" + name + \", and I am \" + age + \" years old.\")"
      ],
      "metadata": {
        "colab": {
          "base_uri": "https://localhost:8080/",
          "height": 0
        },
        "id": "SmGNK7VRcd1R",
        "outputId": "9ec5c946-0488-4a4a-c0dc-2dcd305f4922"
      },
      "execution_count": 14,
      "outputs": [
        {
          "output_type": "stream",
          "name": "stdout",
          "text": [
            "Enter your age: 19\n",
            "Enter your name: prachi\n",
            "Hi, my name is prachi, and I am 19 years old.\n"
          ]
        }
      ]
    },
    {
      "cell_type": "code",
      "source": [
        "answer no. 3import keyword\n",
        "\n",
        "# printing all keywords at once using \"kwlist()\"\n",
        "print(\"The list of keywords is : \")\n",
        "print(keyword.kwlist)"
      ],
      "metadata": {
        "colab": {
          "base_uri": "https://localhost:8080/",
          "height": 0
        },
        "id": "_xC-ytj9fdBC",
        "outputId": "8ff254f3-9f47-44e8-9fbe-e90b8231d7e3"
      },
      "execution_count": 15,
      "outputs": [
        {
          "output_type": "stream",
          "name": "stdout",
          "text": [
            "The list of keywords is : \n",
            "['False', 'None', 'True', 'and', 'as', 'assert', 'async', 'await', 'break', 'class', 'continue', 'def', 'del', 'elif', 'else', 'except', 'finally', 'for', 'from', 'global', 'if', 'import', 'in', 'is', 'lambda', 'nonlocal', 'not', 'or', 'pass', 'raise', 'return', 'try', 'while', 'with', 'yield']\n"
          ]
        }
      ]
    },
    {
      "cell_type": "code",
      "source": [
        "answer no. 4 # include keyword library in this program\n",
        "import keyword\n",
        "\n",
        "# Function to check whether the given\n",
        "# string is a keyword or not\n",
        "def isKeyword(word) :\n",
        "\n",
        "    # kwlist attribute of keyword\n",
        "    # library return list of keywords\n",
        "    # present in current version of\n",
        "    # python language.\n",
        "    keyword_list = keyword.kwlist\n",
        "\n",
        "    # check word in present in\n",
        "    # keyword_list or not.\n",
        "    if word in keyword_list :\n",
        "        return \"Yes\"\n",
        "    else :\n",
        "        return \"No\"\n",
        "\n",
        "\n",
        "# Driver Code\n",
        "if __name__ == \"__main__\" :\n",
        "\n",
        "    print(isKeyword(\"geeks\"))\n",
        "    print(isKeyword(\"for\"))"
      ],
      "metadata": {
        "colab": {
          "base_uri": "https://localhost:8080/",
          "height": 0
        },
        "id": "qWcF4O3Kgqux",
        "outputId": "27b518a7-dc1d-4339-a21e-4d0f03a9b6df"
      },
      "execution_count": 16,
      "outputs": [
        {
          "output_type": "stream",
          "name": "stdout",
          "text": [
            "No\n",
            "Yes\n"
          ]
        }
      ]
    },
    {
      "cell_type": "markdown",
      "source": [],
      "metadata": {
        "id": "wOggv6SQoVBR"
      }
    },
    {
      "cell_type": "code",
      "source": [
        "answer no. 6 # Python code to test that\n",
        "# tuples are immutable\n",
        "\n",
        "tuple1 = (0, 1, 2, 3)\n",
        "tuple1[0] = 4\n",
        "print(tuple1)"
      ],
      "metadata": {
        "colab": {
          "base_uri": "https://localhost:8080/",
          "height": 193
        },
        "collapsed": true,
        "id": "vR6cnmybg5Z4",
        "outputId": "f773def6-1014-4cc7-cab2-36fbcb65f058"
      },
      "execution_count": 19,
      "outputs": [
        {
          "output_type": "error",
          "ename": "TypeError",
          "evalue": "'tuple' object does not support item assignment",
          "traceback": [
            "\u001b[0;31m---------------------------------------------------------------------------\u001b[0m",
            "\u001b[0;31mTypeError\u001b[0m                                 Traceback (most recent call last)",
            "\u001b[0;32m<ipython-input-19-dc6e9b1378e4>\u001b[0m in \u001b[0;36m<cell line: 5>\u001b[0;34m()\u001b[0m\n\u001b[1;32m      3\u001b[0m \u001b[0;34m\u001b[0m\u001b[0m\n\u001b[1;32m      4\u001b[0m \u001b[0mtuple1\u001b[0m \u001b[0;34m=\u001b[0m \u001b[0;34m(\u001b[0m\u001b[0;36m0\u001b[0m\u001b[0;34m,\u001b[0m \u001b[0;36m1\u001b[0m\u001b[0;34m,\u001b[0m \u001b[0;36m2\u001b[0m\u001b[0;34m,\u001b[0m \u001b[0;36m3\u001b[0m\u001b[0;34m)\u001b[0m\u001b[0;34m\u001b[0m\u001b[0;34m\u001b[0m\u001b[0m\n\u001b[0;32m----> 5\u001b[0;31m \u001b[0mtuple1\u001b[0m\u001b[0;34m[\u001b[0m\u001b[0;36m0\u001b[0m\u001b[0;34m]\u001b[0m \u001b[0;34m=\u001b[0m \u001b[0;36m4\u001b[0m\u001b[0;34m\u001b[0m\u001b[0;34m\u001b[0m\u001b[0m\n\u001b[0m\u001b[1;32m      6\u001b[0m \u001b[0mprint\u001b[0m\u001b[0;34m(\u001b[0m\u001b[0mtuple1\u001b[0m\u001b[0;34m)\u001b[0m\u001b[0;34m\u001b[0m\u001b[0;34m\u001b[0m\u001b[0m\n",
            "\u001b[0;31mTypeError\u001b[0m: 'tuple' object does not support item assignment"
          ]
        }
      ]
    },
    {
      "cell_type": "code",
      "source": [
        "answer no. 7# Python code to test that\n",
        "# strings are immutable\n",
        "\n",
        "message = \"Welcome to GeeksforGeeks\"\n",
        "message[0] = 'p'\n",
        "print(message)"
      ],
      "metadata": {
        "colab": {
          "base_uri": "https://localhost:8080/",
          "height": 193
        },
        "id": "m56imJcfiJNm",
        "outputId": "30203e05-1fe4-4f7c-8fe1-1daec34e888f"
      },
      "execution_count": 20,
      "outputs": [
        {
          "output_type": "error",
          "ename": "TypeError",
          "evalue": "'str' object does not support item assignment",
          "traceback": [
            "\u001b[0;31m---------------------------------------------------------------------------\u001b[0m",
            "\u001b[0;31mTypeError\u001b[0m                                 Traceback (most recent call last)",
            "\u001b[0;32m<ipython-input-20-6d5f5c920e95>\u001b[0m in \u001b[0;36m<cell line: 5>\u001b[0;34m()\u001b[0m\n\u001b[1;32m      3\u001b[0m \u001b[0;34m\u001b[0m\u001b[0m\n\u001b[1;32m      4\u001b[0m \u001b[0mmessage\u001b[0m \u001b[0;34m=\u001b[0m \u001b[0;34m\"Welcome to GeeksforGeeks\"\u001b[0m\u001b[0;34m\u001b[0m\u001b[0;34m\u001b[0m\u001b[0m\n\u001b[0;32m----> 5\u001b[0;31m \u001b[0mmessage\u001b[0m\u001b[0;34m[\u001b[0m\u001b[0;36m0\u001b[0m\u001b[0;34m]\u001b[0m \u001b[0;34m=\u001b[0m \u001b[0;34m'p'\u001b[0m\u001b[0;34m\u001b[0m\u001b[0;34m\u001b[0m\u001b[0m\n\u001b[0m\u001b[1;32m      6\u001b[0m \u001b[0mprint\u001b[0m\u001b[0;34m(\u001b[0m\u001b[0mmessage\u001b[0m\u001b[0;34m)\u001b[0m\u001b[0;34m\u001b[0m\u001b[0;34m\u001b[0m\u001b[0m\n",
            "\u001b[0;31mTypeError\u001b[0m: 'str' object does not support item assignment"
          ]
        }
      ]
    },
    {
      "cell_type": "code",
      "source": [
        "answer no. 8 a = 10\n",
        "b = 10\n",
        "c = -10\n",
        "if a > 0 and b > 0:\n",
        "    print(\"The numbers are greater than 0\")\n",
        "if a > 0 and b > 0 and c > 0:\n",
        "    print(\"The numbers are greater than 0\")\n",
        "else:\n",
        "    print(\"Atleast one number is not greater than 0\")"
      ],
      "metadata": {
        "colab": {
          "base_uri": "https://localhost:8080/",
          "height": 0
        },
        "id": "KBZDZaesioTt",
        "outputId": "38fa6814-d0c5-4314-aba0-ca4c5eee68b0"
      },
      "execution_count": 30,
      "outputs": [
        {
          "output_type": "stream",
          "name": "stdout",
          "text": [
            "The numbers are greater than 0\n",
            "Atleast one number is not greater than 0\n"
          ]
        }
      ]
    },
    {
      "cell_type": "code",
      "source": [
        "answer no. 9 s = \"42\"\n",
        "num = int(s)\n",
        "print(num)"
      ],
      "metadata": {
        "colab": {
          "base_uri": "https://localhost:8080/",
          "height": 0
        },
        "id": "XiS6HHemjBxV",
        "outputId": "a4967b5b-541e-495a-8c47-7dbee580af64"
      },
      "execution_count": 31,
      "outputs": [
        {
          "output_type": "stream",
          "name": "stdout",
          "text": [
            "42\n"
          ]
        }
      ]
    },
    {
      "cell_type": "code",
      "source": [
        "answer no. 10 # Python3 code to demonstrate working of\n",
        "# Type casting whole List and Matrix\n",
        "# using map() + list comprehension\n",
        "\n",
        "# helper function to type cast list\n",
        "def cast_list(test_list, data_type):\n",
        "\treturn list(map(data_type, test_list))\n",
        "\n",
        "# helper function to type cast Matrix\n",
        "def cast_matrix(test_matrix, data_type):\n",
        "\treturn list(map(lambda sub: list(map(data_type, sub)), test_matrix))\n",
        "\n",
        "# initialize list\n",
        "test_list = [1, 4, 9, 10, 19]\n",
        "\n",
        "# initialize Matrix\n",
        "test_matrix = [[5, 6, 8], [8, 5, 3], [9, 10, 3]]\n",
        "\n",
        "# printing original list\n",
        "print(\"The original list is : \" + str(test_list))\n",
        "\n",
        "# printing original matrix\n",
        "print(\"The original Matrix is : \" + str(test_matrix))\n",
        "\n",
        "# Type casting whole List and Matrix\n",
        "# using map() + list comprehension\n",
        "res_list = cast_list(test_list, str)\n",
        "res_matrix = cast_matrix(test_matrix, str)\n",
        "\n",
        "# printing result\n",
        "print(\"The List after type casting is : \" + str(res_list))\n",
        "print(\"The Matrix after type casting is : \" + str(res_matrix))\n"
      ],
      "metadata": {
        "colab": {
          "base_uri": "https://localhost:8080/",
          "height": 0
        },
        "id": "9JGkZwvwk1mi",
        "outputId": "658c5f28-a2a3-406f-8a5e-791251288475"
      },
      "execution_count": 33,
      "outputs": [
        {
          "output_type": "stream",
          "name": "stdout",
          "text": [
            "The original list is : [1, 4, 9, 10, 19]\n",
            "The original Matrix is : [[5, 6, 8], [8, 5, 3], [9, 10, 3]]\n",
            "The List after type casting is : ['1', '4', '9', '10', '19']\n",
            "The Matrix after type casting is : [['5', '6', '8'], ['8', '5', '3'], ['9', '10', '3']]\n"
          ]
        }
      ]
    },
    {
      "cell_type": "code",
      "source": [
        "answer no. 11 # Python program to check whether\n",
        "# the number is positive, negative\n",
        "# or equal to zero\n",
        "\n",
        "def check(n):\n",
        "\n",
        "    # if the number is positive\n",
        "    if n > 0:\n",
        "        print(\"Positive\")\n",
        "\n",
        "    # if the number is negative\n",
        "    elif n < 0:\n",
        "        print(\"Negative\")\n",
        "\n",
        "    # if the number is equal to\n",
        "    # zero\n",
        "    else:\n",
        "        print(\"Equal to zero\")\n",
        "\n",
        "# Driver Code\n",
        "check(5)\n",
        "check(0)\n",
        "check(-5)"
      ],
      "metadata": {
        "colab": {
          "base_uri": "https://localhost:8080/",
          "height": 0
        },
        "id": "jxpLtt8ZlWxh",
        "outputId": "128d03c3-5b6e-4cfa-d919-cc63fc06fb10"
      },
      "execution_count": 34,
      "outputs": [
        {
          "output_type": "stream",
          "name": "stdout",
          "text": [
            "Positive\n",
            "Equal to zero\n",
            "Negative\n"
          ]
        }
      ]
    },
    {
      "cell_type": "code",
      "source": [
        "answer no. 12 for i in range(1, 11):\n",
        "    print(i)"
      ],
      "metadata": {
        "colab": {
          "base_uri": "https://localhost:8080/",
          "height": 0
        },
        "id": "RDJIZkywlzO8",
        "outputId": "0cefd4d9-9ee9-458a-8c29-30031910494f"
      },
      "execution_count": 36,
      "outputs": [
        {
          "output_type": "stream",
          "name": "stdout",
          "text": [
            "1\n",
            "2\n",
            "3\n",
            "4\n",
            "5\n",
            "6\n",
            "7\n",
            "8\n",
            "9\n",
            "10\n"
          ]
        }
      ]
    },
    {
      "cell_type": "code",
      "source": [
        "answer no. 13 # Python Program to Calculate Sum of Even Numbers from 1 to 50\n",
        "\n",
        "maximum = int(input(\" Please Enter the Maximum Value : \"))\n",
        "total = 0\n",
        "\n",
        "for number in range(1, maximum+1):\n",
        "    if(number % 2 == 0):\n",
        "        print(\"{0}\".format(number))\n",
        "        total = total + number\n",
        "\n",
        "print(\"The Sum of Even Numbers from 1 to {0} = {1}\".format(number, total))"
      ],
      "metadata": {
        "colab": {
          "base_uri": "https://localhost:8080/",
          "height": 0
        },
        "id": "gy6eJ9vPmD-Z",
        "outputId": "b08a03ac-5f45-4fc1-80ab-8a43c61a0f0d"
      },
      "execution_count": 40,
      "outputs": [
        {
          "output_type": "stream",
          "name": "stdout",
          "text": [
            " Please Enter the Maximum Value : 15\n",
            "2\n",
            "4\n",
            "6\n",
            "8\n",
            "10\n",
            "12\n",
            "14\n",
            "The Sum of Even Numbers from 1 to 15 = 56\n"
          ]
        }
      ]
    },
    {
      "cell_type": "code",
      "source": [
        "answer no. 14 name= str((input(\"Enter the name: \")))\n",
        "i = len(name) - 1\n",
        "\n",
        "while i >= 0:\n",
        "    print(name[i], end = '')\n",
        "    i = i - 1"
      ],
      "metadata": {
        "colab": {
          "base_uri": "https://localhost:8080/",
          "height": 0
        },
        "id": "sduSa9aQmd_n",
        "outputId": "eff32732-45d9-4c41-923c-7606670bfa60"
      },
      "execution_count": 41,
      "outputs": [
        {
          "output_type": "stream",
          "name": "stdout",
          "text": [
            "Enter the name: 12\n",
            "21"
          ]
        }
      ]
    },
    {
      "cell_type": "code",
      "source": [
        "# Python program to find the factorial of a number\n",
        "\n",
        "#Define a factorial and loop variable\n",
        "fact = 1\n",
        "i = 1\n",
        "\n",
        "# To take input from the user\n",
        "num = int(input(\"Enter a number: \"))\n",
        "\n",
        "# check if the number is negative or positive\n",
        "if num < 0:\n",
        "    print(\"Sorry, factorial does not exist for negative numbers\")\n",
        "else:\n",
        "    while i <= num:\n",
        "        fact = fact*i\n",
        "        i = i + 1\n",
        "    print(\"The factorial of\", num, \"is\", fact)"
      ],
      "metadata": {
        "colab": {
          "base_uri": "https://localhost:8080/",
          "height": 0
        },
        "id": "-mhRQNiknwBm",
        "outputId": "720be7b0-1e4f-49b0-c387-93ca6970a173"
      },
      "execution_count": 42,
      "outputs": [
        {
          "output_type": "stream",
          "name": "stdout",
          "text": [
            "Enter a number: 17\n",
            "The factorial of 17 is 355687428096000\n"
          ]
        }
      ]
    },
    {
      "cell_type": "code",
      "source": [],
      "metadata": {
        "id": "s0NWIivJoF-9"
      },
      "execution_count": null,
      "outputs": []
    },
    {
      "cell_type": "markdown",
      "source": [
        "Answer no. 1 Python is a general-purpose programming language that's popular because it's versatile, easy to learn, and used in many industries\n",
        "\n",
        "Python is a popular programing language for mny reason including\n",
        "Ease of learning\n",
        "Readability\n",
        "Versatility\n",
        "Extensive libraries\n",
        "Open-sources\n",
        "\n",
        "Answer no. 2:- A Python interpreter is a program that reads and executes Python code line by line. It's a key component of the Python programming language, allowing developers to run scripts and interact with the language\n",
        "\n",
        "Answer no. 3:- A predefined keyword in Python is a word that Python reserves for specific purposes in working programs. Keywords have a specific meaning and cannot be used anywhere else in a program.\n",
        "\n",
        "Here are some examples of Python keywords:\n",
        "Control flow keywords\n",
        "Control the flow of execution in Python programs, such as if, else, elif, for, while, break, continue, and return\n",
        "\n",
        "Declaration keywords\n",
        "Used to declare variables, functions, classes, and other entities, such as def, class, lambda, global, and nonlocal\n",
        "\n",
        "Exception-handling keywords\n",
        "Used for exception-handling purposes, such as try, except, finally, raise, and assert\n",
        "\n",
        "Miscellaneous keywords\n",
        "Have their own unique purposes in Python, such as True, False, None, and, or, and not\n",
        "\n",
        "Answer no. 4:- Keywords in Python are reserved words that have special meanings and serve specific purposes in the language syntax. Python keywords cannot be used as the names of variables, functions, and classes or any other identifier.\n",
        "\n",
        "Answer no. 5 :-In Python, mutability refers to the ability of an object to change after it has been created:\n",
        "Mutable objects\n",
        "\n",
        "Objects that can be modified in terms of their state or contents after they have been created. Examples of mutable objects in Python include lists, dictionaries, and sets.\n",
        "\n",
        "Answer no. 6:- Tuples and lists are the same in every way except two: tuples use parentheses instead of square brackets, and the items in tuples cannot be modified (but the items in lists can be modified).\n",
        "\n",
        "Answer no. 7:- In Python, the main difference between the == and is operators is that == compares the values of objects, while is compares the identities of objects:\n",
        "==\n",
        "\n",
        "The equality operator compares the values of two objects to see if they are equal. If the values are equal, the condition is true.\n",
        "\n",
        "is\n",
        "The identity operator compares the identities of two objects to see if they are the same object. If the objects are the same, the condition is true.\n",
        "Understanding the difference between these operators is important for writing efficient, bug-free code, especially when working with mutable and immutable objects.\n",
        "\n",
        "\n",
        "Answer no. :- 8 Python's three logical operators are:\n",
        "\n",
        "and: Returns True if both operands are true\n",
        "\n",
        "or: Returns True if at least one operand is true\n",
        "\n",
        "not: Reverses the result, returning False if the result is true\n",
        "\n",
        "Here are some examples of these operators in use:\n",
        "\n",
        "and: x and y returns True if both x and y are true\n",
        "or: x or y returns True if either x or y are true\n",
        "not: not(x < 5 and x < 10) reverses the result of x < 5 and x < 10\n",
        "\n",
        "\n",
        "Answer no. 9:- Type casting in Python is the process of changing a variable's data type to another data type. It's also known as type conversion.\n",
        "In Python, there are two types of casting:\n",
        "\n",
        "Automatic: Python automatically type casts a variable.\n",
        "\n",
        "Explicit: The programmer manually changes the data type using built-in functions. Some examples of these functions include:\n",
        "\n",
        "str(): Converts an integer or float to a string\n",
        "int(): Converts a string or float to an integer\n",
        "float(): Converts an integer or string to a float\n",
        "The syntax for explicit type casting is <required_datatype>(expression). This assigns the required expression to a predefined data type function.\n",
        "Other functions for type casting in Python include:\n",
        "ord(), hex(), oct(), tuple(), set(), list(), and dict().\n",
        "\n",
        "\n",
        "Answer no. 10:- The main difference between implicit and explicit type casting is that implicit type casting is done automatically by the compiler, while explicit type casting is done manually by the programmer.\n",
        "\n",
        "Here are some more details about implicit and explicit type casting:\n",
        "\n",
        "Implicit type casting\n",
        "Also known as widening conversion, this is when the compiler automatically converts a value to a different data type when there is no loss of data.\n",
        "\n",
        "Explicit type casting\n",
        "This is when the programmer manually converts a value to a specific data type, often when there is a possibility of data loss.\n",
        "\n",
        "\n",
        "Answer no. 11:-The purpose of a conditional statement in Python is to control the flow of a program by making decisions based on certain conditions:\n",
        "\n",
        "Efficiency\n",
        "Conditional statements can make code more efficient and easier to read by avoiding long and complicated blocks of code.\n",
        "\n",
        "Decision-making\n",
        "Conditional statements allow you to make decisions in your code based on variable values or comparison results.\n",
        "\n",
        "Conditional execution\n",
        "Conditional statements allow you to conditionally execute a statement or group of statements based on the expression's value.\n",
        "\n",
        "\n",
        "Answer no. 12:- The “elif” keyword in Python, stands for “else if”. It can be used in conditional statements to check for multiple conditions. For example, if the first condition is false, it moves on to the next “elif” statement to check if that condition is true.\n",
        "\n",
        "\n",
        "Answer No. 13:- The main difference between a for loop and a while loop is that a for loop is used when the number of iterations is known, while a while loop is used when the number of iterations is unknown:\n",
        "\n",
        "For loop\n",
        "Used when the number of iterations is known ahead of time. A for loop is followed by initialization, expression, and increment statements.\n",
        "\n",
        "While loop\n",
        "Used when the number of iterations is unknown ahead of time. A while loop executes a block of code repeatedly while a condition is true.\n",
        "\n",
        "Here are some other differences between for and while loops:\n",
        "\n",
        "Efficiency: For loops are often more efficient for a predetermined number of iterations.\n",
        "\n",
        "Flexibility: While loops are flexible but may require more conditional checks.\n",
        "\n",
        "Else clause: In a for loop, the else clause is executed after the loop finishes its final iteration. In a while loop, it's executed after the loop's condition becomes false.\n",
        "\n",
        "\n",
        "\n",
        "Answer no. 14:- Use a for loop when you know the loop should execute n times. Use a while loop for reading a file into a variable. Use a while loop when asking for user input. Use a while loop when the increment value is nonstandard.\n",
        "\n",
        "```\n",
        "# This is formatted as code\n",
        "```\n",
        "\n",
        "\n",
        "l;"
      ],
      "metadata": {
        "id": "14gPFBlnoYI5"
      }
    }
  ]
}